{
  "nbformat": 4,
  "nbformat_minor": 0,
  "metadata": {
    "colab": {
      "name": "Iuliano Facundo - Proyecto Titanic.ipynb",
      "provenance": [],
      "collapsed_sections": []
    },
    "kernelspec": {
      "name": "python3",
      "display_name": "Python 3"
    }
  },
  "cells": [
    {
      "cell_type": "markdown",
      "metadata": {
        "id": "LO8B6H3wHq_x"
      },
      "source": [
        "# Titanic\n",
        "\n",
        "El Titanic fue un barco britanico que rompia record de mayor cantidad de pasajeros, con una capacidad de mas de 2700 pasajeros y con mas de 800 tripulantes, el mismo proporsionaba varios lujos y servicios ademas de que incorporaba lo mejor en medidas de seguridad, sin embargo, debido a varios fallos de los oficiales a cargo, termino chocando un iceberg el cual pudo dañar la cubierta y finalmente causando el hundimiento del barco lo que dejo la muerte de cientos de pasajeros.\n",
        "\n",
        "# Proyecto\n",
        "\n",
        "En este modulo vamos a hacer un proyecto entero de aprendizaje supervisado, pasando por todos los pasos del mismo, los cuales son:\n",
        "\n",
        "* Definición del problema.\n",
        "* Búsqueda de datos. \n",
        "* Análisis exploratorio y limpieza.\n",
        "* Separación de entrenamiento y validación.\n",
        "* Entrenamiento.\n",
        "* Prueba.\n",
        "* Presentación de resultados. \n",
        "\n",
        "## Definición del problema\n",
        "\n",
        "Todo proyecto de aprendizaje automático parte de una pregunta que se quiere responder, en este caso la pregunta es:\n",
        "\n",
        "**¿Cuál es la probabilidad de sobrevivir de un pasajero con cualidades específicas, como género, edad, nivel socioecónomico, etc. en un naufragio similar al del Titanic?**\n",
        "\n",
        "## Búsqueda de datos\n",
        " \n",
        "Los datos que usaremos se encuentran en [Kaggle](https://www.kaggle.com/c/titanic/data) (Página muy conocida y recomendada en el mundo de la ciencia de datos, con competencias, conjuntos de datos, cursos e información muy valiosa), allí deberán registrarse y aceptar las reglas de la competencia antes de poder bajarse los datos. Estos incluyen un conjunto de datos de entrenamiento (train.csv) y un conjunto de datos de prueba (test.csv) contra el cual probar nuestras predicciones. El objetivo final de analizar este dataset, será predecir de forma correcta si los pasajeros del dataset de pruebas sobreviven o no al accidente. \n",
        " \n",
        "Una vez que tengan los datos podemos subir los csv a nuestros notebooks como aprendimos en el módulo pasado. \n",
        "\n",
        "Primero debemos subir el conjunto de datos de entrenamiento, y durante todo el proyecto solo usaremos este conjunto de datos, el de prueba solo se usara al final una vez que se termine de entrenar y validar el modelo a usar. "
      ]
    },
    {
      "cell_type": "markdown",
      "metadata": {
        "id": "r4jGXPl-URWx"
      },
      "source": [
        "**1. ¿Qué pasa si usamos el conjunto de prueba en alguno de los pasos previos al de prueba?**\n",
        "\n",
        "Respuesta: Si usamos el conjunto de prueba en alguno de los pasos previos al de prueba, nos dará un DataFrame con 418 filas, las cuales nos muestran los datos de otros 418 pasajeros, y 11 columnas (con las variables _PassengerId_, _Pclass_, _Name_, _Sex_, _Age_, _SibSp_, _Parch_, _Ticket_, _Fare_, _Cabin_, _Embarked_)"
      ]
    },
    {
      "cell_type": "code",
      "metadata": {
        "id": "Bh3YmTfqFhAx",
        "colab": {
          "resources": {
            "http://localhost:8080/nbextensions/google.colab/files.js": {
              "data": "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",
              "ok": true,
              "headers": [
                [
                  "content-type",
                  "application/javascript"
                ]
              ],
              "status": 200,
              "status_text": ""
            }
          },
          "base_uri": "https://localhost:8080/",
          "height": 107
        },
        "outputId": "6fe34bf2-b5d9-48d3-f121-d8f5968e2386"
      },
      "source": [
        "import pandas as pd\n",
        "import matplotlib.pyplot as plt\n",
        "import seaborn as sns\n",
        "from google.colab import files\n",
        "import io\n",
        "\n",
        "filesUploaded = files.upload()"
      ],
      "execution_count": 1,
      "outputs": [
        {
          "output_type": "display_data",
          "data": {
            "text/html": [
              "\n",
              "     <input type=\"file\" id=\"files-d8ecfb68-9a48-457a-a794-9a13836da591\" name=\"files[]\" multiple disabled\n",
              "        style=\"border:none\" />\n",
              "     <output id=\"result-d8ecfb68-9a48-457a-a794-9a13836da591\">\n",
              "      Upload widget is only available when the cell has been executed in the\n",
              "      current browser session. Please rerun this cell to enable.\n",
              "      </output>\n",
              "      <script src=\"/nbextensions/google.colab/files.js\"></script> "
            ],
            "text/plain": [
              "<IPython.core.display.HTML object>"
            ]
          },
          "metadata": {
            "tags": []
          }
        },
        {
          "output_type": "stream",
          "text": [
            "Saving test.csv to test.csv\n",
            "Saving train.csv to train.csv\n"
          ],
          "name": "stdout"
        }
      ]
    },
    {
      "cell_type": "code",
      "metadata": {
        "id": "epIQ-QPvHUza",
        "colab": {
          "base_uri": "https://localhost:8080/",
          "height": 414
        },
        "outputId": "49ed74b5-f113-4194-8ebf-e9ac81e51403"
      },
      "source": [
        "train = pd.read_csv(\"train.csv\")\n",
        "train"
      ],
      "execution_count": 2,
      "outputs": [
        {
          "output_type": "execute_result",
          "data": {
            "text/html": [
              "<div>\n",
              "<style scoped>\n",
              "    .dataframe tbody tr th:only-of-type {\n",
              "        vertical-align: middle;\n",
              "    }\n",
              "\n",
              "    .dataframe tbody tr th {\n",
              "        vertical-align: top;\n",
              "    }\n",
              "\n",
              "    .dataframe thead th {\n",
              "        text-align: right;\n",
              "    }\n",
              "</style>\n",
              "<table border=\"1\" class=\"dataframe\">\n",
              "  <thead>\n",
              "    <tr style=\"text-align: right;\">\n",
              "      <th></th>\n",
              "      <th>PassengerId</th>\n",
              "      <th>Survived</th>\n",
              "      <th>Pclass</th>\n",
              "      <th>Name</th>\n",
              "      <th>Sex</th>\n",
              "      <th>Age</th>\n",
              "      <th>SibSp</th>\n",
              "      <th>Parch</th>\n",
              "      <th>Ticket</th>\n",
              "      <th>Fare</th>\n",
              "      <th>Cabin</th>\n",
              "      <th>Embarked</th>\n",
              "    </tr>\n",
              "  </thead>\n",
              "  <tbody>\n",
              "    <tr>\n",
              "      <th>0</th>\n",
              "      <td>1</td>\n",
              "      <td>0</td>\n",
              "      <td>3</td>\n",
              "      <td>Braund, Mr. Owen Harris</td>\n",
              "      <td>male</td>\n",
              "      <td>22.0</td>\n",
              "      <td>1</td>\n",
              "      <td>0</td>\n",
              "      <td>A/5 21171</td>\n",
              "      <td>7.2500</td>\n",
              "      <td>NaN</td>\n",
              "      <td>S</td>\n",
              "    </tr>\n",
              "    <tr>\n",
              "      <th>1</th>\n",
              "      <td>2</td>\n",
              "      <td>1</td>\n",
              "      <td>1</td>\n",
              "      <td>Cumings, Mrs. John Bradley (Florence Briggs Th...</td>\n",
              "      <td>female</td>\n",
              "      <td>38.0</td>\n",
              "      <td>1</td>\n",
              "      <td>0</td>\n",
              "      <td>PC 17599</td>\n",
              "      <td>71.2833</td>\n",
              "      <td>C85</td>\n",
              "      <td>C</td>\n",
              "    </tr>\n",
              "    <tr>\n",
              "      <th>2</th>\n",
              "      <td>3</td>\n",
              "      <td>1</td>\n",
              "      <td>3</td>\n",
              "      <td>Heikkinen, Miss. Laina</td>\n",
              "      <td>female</td>\n",
              "      <td>26.0</td>\n",
              "      <td>0</td>\n",
              "      <td>0</td>\n",
              "      <td>STON/O2. 3101282</td>\n",
              "      <td>7.9250</td>\n",
              "      <td>NaN</td>\n",
              "      <td>S</td>\n",
              "    </tr>\n",
              "    <tr>\n",
              "      <th>3</th>\n",
              "      <td>4</td>\n",
              "      <td>1</td>\n",
              "      <td>1</td>\n",
              "      <td>Futrelle, Mrs. Jacques Heath (Lily May Peel)</td>\n",
              "      <td>female</td>\n",
              "      <td>35.0</td>\n",
              "      <td>1</td>\n",
              "      <td>0</td>\n",
              "      <td>113803</td>\n",
              "      <td>53.1000</td>\n",
              "      <td>C123</td>\n",
              "      <td>S</td>\n",
              "    </tr>\n",
              "    <tr>\n",
              "      <th>4</th>\n",
              "      <td>5</td>\n",
              "      <td>0</td>\n",
              "      <td>3</td>\n",
              "      <td>Allen, Mr. William Henry</td>\n",
              "      <td>male</td>\n",
              "      <td>35.0</td>\n",
              "      <td>0</td>\n",
              "      <td>0</td>\n",
              "      <td>373450</td>\n",
              "      <td>8.0500</td>\n",
              "      <td>NaN</td>\n",
              "      <td>S</td>\n",
              "    </tr>\n",
              "    <tr>\n",
              "      <th>...</th>\n",
              "      <td>...</td>\n",
              "      <td>...</td>\n",
              "      <td>...</td>\n",
              "      <td>...</td>\n",
              "      <td>...</td>\n",
              "      <td>...</td>\n",
              "      <td>...</td>\n",
              "      <td>...</td>\n",
              "      <td>...</td>\n",
              "      <td>...</td>\n",
              "      <td>...</td>\n",
              "      <td>...</td>\n",
              "    </tr>\n",
              "    <tr>\n",
              "      <th>886</th>\n",
              "      <td>887</td>\n",
              "      <td>0</td>\n",
              "      <td>2</td>\n",
              "      <td>Montvila, Rev. Juozas</td>\n",
              "      <td>male</td>\n",
              "      <td>27.0</td>\n",
              "      <td>0</td>\n",
              "      <td>0</td>\n",
              "      <td>211536</td>\n",
              "      <td>13.0000</td>\n",
              "      <td>NaN</td>\n",
              "      <td>S</td>\n",
              "    </tr>\n",
              "    <tr>\n",
              "      <th>887</th>\n",
              "      <td>888</td>\n",
              "      <td>1</td>\n",
              "      <td>1</td>\n",
              "      <td>Graham, Miss. Margaret Edith</td>\n",
              "      <td>female</td>\n",
              "      <td>19.0</td>\n",
              "      <td>0</td>\n",
              "      <td>0</td>\n",
              "      <td>112053</td>\n",
              "      <td>30.0000</td>\n",
              "      <td>B42</td>\n",
              "      <td>S</td>\n",
              "    </tr>\n",
              "    <tr>\n",
              "      <th>888</th>\n",
              "      <td>889</td>\n",
              "      <td>0</td>\n",
              "      <td>3</td>\n",
              "      <td>Johnston, Miss. Catherine Helen \"Carrie\"</td>\n",
              "      <td>female</td>\n",
              "      <td>NaN</td>\n",
              "      <td>1</td>\n",
              "      <td>2</td>\n",
              "      <td>W./C. 6607</td>\n",
              "      <td>23.4500</td>\n",
              "      <td>NaN</td>\n",
              "      <td>S</td>\n",
              "    </tr>\n",
              "    <tr>\n",
              "      <th>889</th>\n",
              "      <td>890</td>\n",
              "      <td>1</td>\n",
              "      <td>1</td>\n",
              "      <td>Behr, Mr. Karl Howell</td>\n",
              "      <td>male</td>\n",
              "      <td>26.0</td>\n",
              "      <td>0</td>\n",
              "      <td>0</td>\n",
              "      <td>111369</td>\n",
              "      <td>30.0000</td>\n",
              "      <td>C148</td>\n",
              "      <td>C</td>\n",
              "    </tr>\n",
              "    <tr>\n",
              "      <th>890</th>\n",
              "      <td>891</td>\n",
              "      <td>0</td>\n",
              "      <td>3</td>\n",
              "      <td>Dooley, Mr. Patrick</td>\n",
              "      <td>male</td>\n",
              "      <td>32.0</td>\n",
              "      <td>0</td>\n",
              "      <td>0</td>\n",
              "      <td>370376</td>\n",
              "      <td>7.7500</td>\n",
              "      <td>NaN</td>\n",
              "      <td>Q</td>\n",
              "    </tr>\n",
              "  </tbody>\n",
              "</table>\n",
              "<p>891 rows × 12 columns</p>\n",
              "</div>"
            ],
            "text/plain": [
              "     PassengerId  Survived  Pclass  ...     Fare Cabin  Embarked\n",
              "0              1         0       3  ...   7.2500   NaN         S\n",
              "1              2         1       1  ...  71.2833   C85         C\n",
              "2              3         1       3  ...   7.9250   NaN         S\n",
              "3              4         1       1  ...  53.1000  C123         S\n",
              "4              5         0       3  ...   8.0500   NaN         S\n",
              "..           ...       ...     ...  ...      ...   ...       ...\n",
              "886          887         0       2  ...  13.0000   NaN         S\n",
              "887          888         1       1  ...  30.0000   B42         S\n",
              "888          889         0       3  ...  23.4500   NaN         S\n",
              "889          890         1       1  ...  30.0000  C148         C\n",
              "890          891         0       3  ...   7.7500   NaN         Q\n",
              "\n",
              "[891 rows x 12 columns]"
            ]
          },
          "metadata": {
            "tags": []
          },
          "execution_count": 2
        }
      ]
    },
    {
      "cell_type": "markdown",
      "metadata": {
        "id": "LA0GAVJuRx9Y"
      },
      "source": [
        "## Análisis exploratorio y limpieza.\n",
        "\n",
        "Esta sección es fundamental y en la que se invierte más tiempo en cualquier proyecto de aprendizaje automático, debemos decidir:\n",
        "* ¿Qué variables se van a usar? \n",
        "* ¿Hay que eliminar algúnas observaciones?\n",
        "* ¿Hay datos faltantes? ¿Qué haremos con ellos?\n",
        "* ¿Hay datos atípicos? ¿Qué haremos con ellos?\n",
        "* ¿Todas las variables a usar estan limpias?\n",
        "* ¿Crearemos nuevas variables?\n",
        "* ¿Qué información extra podemos obtener de los datos?\n",
        "\n",
        "Es importante tomar en cuenta que este proceso suele ser itérativo, es decir, limpiamos los datos, seleccionamos las variables, creamos algunas nuevas y revisamos, probablemente en la revisión salten algunas nuevas variables o datos atípicos, por lo que volvemos a comenzar el proceso. \n",
        "\n",
        "También es de vital importancia mantener registro de todo lo que se le hagan a los datos y el orden, para poder reproducir los resultados, y, más aún, por que los datos que reciba el modelo una vez puesto en producción, deben de recibir el mismo tratamiento.\n",
        "\n"
      ]
    },
    {
      "cell_type": "markdown",
      "metadata": {
        "id": "2wensaGHX8GH"
      },
      "source": [
        "**2. Describa brevemente todas las variables del conjunto de datos, sus tipos, rangos, relaciones con otras variables, etc.**\n",
        "\n",
        "**2.1 ¿Qué información podemos concluir aplicando el método _describe_?**"
      ]
    },
    {
      "cell_type": "code",
      "metadata": {
        "id": "hEe6Q8J17-Kq",
        "colab": {
          "base_uri": "https://localhost:8080/",
          "height": 294
        },
        "outputId": "21bda4f5-f822-48ec-b8eb-37020cc4f773"
      },
      "source": [
        "train.describe()"
      ],
      "execution_count": 3,
      "outputs": [
        {
          "output_type": "execute_result",
          "data": {
            "text/html": [
              "<div>\n",
              "<style scoped>\n",
              "    .dataframe tbody tr th:only-of-type {\n",
              "        vertical-align: middle;\n",
              "    }\n",
              "\n",
              "    .dataframe tbody tr th {\n",
              "        vertical-align: top;\n",
              "    }\n",
              "\n",
              "    .dataframe thead th {\n",
              "        text-align: right;\n",
              "    }\n",
              "</style>\n",
              "<table border=\"1\" class=\"dataframe\">\n",
              "  <thead>\n",
              "    <tr style=\"text-align: right;\">\n",
              "      <th></th>\n",
              "      <th>PassengerId</th>\n",
              "      <th>Survived</th>\n",
              "      <th>Pclass</th>\n",
              "      <th>Age</th>\n",
              "      <th>SibSp</th>\n",
              "      <th>Parch</th>\n",
              "      <th>Fare</th>\n",
              "    </tr>\n",
              "  </thead>\n",
              "  <tbody>\n",
              "    <tr>\n",
              "      <th>count</th>\n",
              "      <td>891.000000</td>\n",
              "      <td>891.000000</td>\n",
              "      <td>891.000000</td>\n",
              "      <td>714.000000</td>\n",
              "      <td>891.000000</td>\n",
              "      <td>891.000000</td>\n",
              "      <td>891.000000</td>\n",
              "    </tr>\n",
              "    <tr>\n",
              "      <th>mean</th>\n",
              "      <td>446.000000</td>\n",
              "      <td>0.383838</td>\n",
              "      <td>2.308642</td>\n",
              "      <td>29.699118</td>\n",
              "      <td>0.523008</td>\n",
              "      <td>0.381594</td>\n",
              "      <td>32.204208</td>\n",
              "    </tr>\n",
              "    <tr>\n",
              "      <th>std</th>\n",
              "      <td>257.353842</td>\n",
              "      <td>0.486592</td>\n",
              "      <td>0.836071</td>\n",
              "      <td>14.526497</td>\n",
              "      <td>1.102743</td>\n",
              "      <td>0.806057</td>\n",
              "      <td>49.693429</td>\n",
              "    </tr>\n",
              "    <tr>\n",
              "      <th>min</th>\n",
              "      <td>1.000000</td>\n",
              "      <td>0.000000</td>\n",
              "      <td>1.000000</td>\n",
              "      <td>0.420000</td>\n",
              "      <td>0.000000</td>\n",
              "      <td>0.000000</td>\n",
              "      <td>0.000000</td>\n",
              "    </tr>\n",
              "    <tr>\n",
              "      <th>25%</th>\n",
              "      <td>223.500000</td>\n",
              "      <td>0.000000</td>\n",
              "      <td>2.000000</td>\n",
              "      <td>20.125000</td>\n",
              "      <td>0.000000</td>\n",
              "      <td>0.000000</td>\n",
              "      <td>7.910400</td>\n",
              "    </tr>\n",
              "    <tr>\n",
              "      <th>50%</th>\n",
              "      <td>446.000000</td>\n",
              "      <td>0.000000</td>\n",
              "      <td>3.000000</td>\n",
              "      <td>28.000000</td>\n",
              "      <td>0.000000</td>\n",
              "      <td>0.000000</td>\n",
              "      <td>14.454200</td>\n",
              "    </tr>\n",
              "    <tr>\n",
              "      <th>75%</th>\n",
              "      <td>668.500000</td>\n",
              "      <td>1.000000</td>\n",
              "      <td>3.000000</td>\n",
              "      <td>38.000000</td>\n",
              "      <td>1.000000</td>\n",
              "      <td>0.000000</td>\n",
              "      <td>31.000000</td>\n",
              "    </tr>\n",
              "    <tr>\n",
              "      <th>max</th>\n",
              "      <td>891.000000</td>\n",
              "      <td>1.000000</td>\n",
              "      <td>3.000000</td>\n",
              "      <td>80.000000</td>\n",
              "      <td>8.000000</td>\n",
              "      <td>6.000000</td>\n",
              "      <td>512.329200</td>\n",
              "    </tr>\n",
              "  </tbody>\n",
              "</table>\n",
              "</div>"
            ],
            "text/plain": [
              "       PassengerId    Survived      Pclass  ...       SibSp       Parch        Fare\n",
              "count   891.000000  891.000000  891.000000  ...  891.000000  891.000000  891.000000\n",
              "mean    446.000000    0.383838    2.308642  ...    0.523008    0.381594   32.204208\n",
              "std     257.353842    0.486592    0.836071  ...    1.102743    0.806057   49.693429\n",
              "min       1.000000    0.000000    1.000000  ...    0.000000    0.000000    0.000000\n",
              "25%     223.500000    0.000000    2.000000  ...    0.000000    0.000000    7.910400\n",
              "50%     446.000000    0.000000    3.000000  ...    0.000000    0.000000   14.454200\n",
              "75%     668.500000    1.000000    3.000000  ...    1.000000    0.000000   31.000000\n",
              "max     891.000000    1.000000    3.000000  ...    8.000000    6.000000  512.329200\n",
              "\n",
              "[8 rows x 7 columns]"
            ]
          },
          "metadata": {
            "tags": []
          },
          "execution_count": 3
        }
      ]
    },
    {
      "cell_type": "markdown",
      "metadata": {
        "id": "SxGgNDlh79kx"
      },
      "source": [
        "Respuesta: Aplicando el método _describe_, nos mostrará estadísticas de las variables numéricas del DataFrame (train)"
      ]
    },
    {
      "cell_type": "markdown",
      "metadata": {
        "id": "Gh398WHt9Kj2"
      },
      "source": [
        "**2.2 ¿Cuantos datos hay en cada clase de la variable _Pclass_?**"
      ]
    },
    {
      "cell_type": "code",
      "metadata": {
        "id": "iMch9pn-9T58",
        "colab": {
          "base_uri": "https://localhost:8080/",
          "height": 457
        },
        "outputId": "7caaf0b3-9135-45c9-bb73-6d7e4243b6db"
      },
      "source": [
        "print(train.Pclass.value_counts())\n",
        "sns.displot(data = train, x = \"Pclass\")"
      ],
      "execution_count": 4,
      "outputs": [
        {
          "output_type": "stream",
          "text": [
            "3    491\n",
            "1    216\n",
            "2    184\n",
            "Name: Pclass, dtype: int64\n"
          ],
          "name": "stdout"
        },
        {
          "output_type": "execute_result",
          "data": {
            "text/plain": [
              "<seaborn.axisgrid.FacetGrid at 0x7eff0a160410>"
            ]
          },
          "metadata": {
            "tags": []
          },
          "execution_count": 4
        },
        {
          "output_type": "display_data",
          "data": {
            "image/png": "[encoded data removed]",
            "text/plain": [
              "<Figure size 360x360 with 1 Axes>"
            ]
          },
          "metadata": {
            "tags": [],
            "needs_background": "light"
          }
        }
      ]
    },
    {
      "cell_type": "markdown",
      "metadata": {
        "id": "jUs3Uiy0Tk-B"
      },
      "source": [
        "Respuesta: En la clase baja, hubo un total de 491 datos, 184 en la clase media y 216 en la clase alta."
      ]
    },
    {
      "cell_type": "markdown",
      "metadata": {
        "id": "uESFzWfb90Ym"
      },
      "source": [
        "**2.3 ¿Con que variables esta más relacionada la variable _Survived_? ¿Tiene sentido esas relaciones?**"
      ]
    },
    {
      "cell_type": "code",
      "metadata": {
        "colab": {
          "base_uri": "https://localhost:8080/",
          "height": 263
        },
        "id": "JRQcDQT3JsyA",
        "outputId": "f9e73b2e-c6ee-4068-e840-beb40f2d5abc"
      },
      "source": [
        "train.corr()"
      ],
      "execution_count": 5,
      "outputs": [
        {
          "output_type": "execute_result",
          "data": {
            "text/html": [
              "<div>\n",
              "<style scoped>\n",
              "    .dataframe tbody tr th:only-of-type {\n",
              "        vertical-align: middle;\n",
              "    }\n",
              "\n",
              "    .dataframe tbody tr th {\n",
              "        vertical-align: top;\n",
              "    }\n",
              "\n",
              "    .dataframe thead th {\n",
              "        text-align: right;\n",
              "    }\n",
              "</style>\n",
              "<table border=\"1\" class=\"dataframe\">\n",
              "  <thead>\n",
              "    <tr style=\"text-align: right;\">\n",
              "      <th></th>\n",
              "      <th>PassengerId</th>\n",
              "      <th>Survived</th>\n",
              "      <th>Pclass</th>\n",
              "      <th>Age</th>\n",
              "      <th>SibSp</th>\n",
              "      <th>Parch</th>\n",
              "      <th>Fare</th>\n",
              "    </tr>\n",
              "  </thead>\n",
              "  <tbody>\n",
              "    <tr>\n",
              "      <th>PassengerId</th>\n",
              "      <td>1.000000</td>\n",
              "      <td>-0.005007</td>\n",
              "      <td>-0.035144</td>\n",
              "      <td>0.036847</td>\n",
              "      <td>-0.057527</td>\n",
              "      <td>-0.001652</td>\n",
              "      <td>0.012658</td>\n",
              "    </tr>\n",
              "    <tr>\n",
              "      <th>Survived</th>\n",
              "      <td>-0.005007</td>\n",
              "      <td>1.000000</td>\n",
              "      <td>-0.338481</td>\n",
              "      <td>-0.077221</td>\n",
              "      <td>-0.035322</td>\n",
              "      <td>0.081629</td>\n",
              "      <td>0.257307</td>\n",
              "    </tr>\n",
              "    <tr>\n",
              "      <th>Pclass</th>\n",
              "      <td>-0.035144</td>\n",
              "      <td>-0.338481</td>\n",
              "      <td>1.000000</td>\n",
              "      <td>-0.369226</td>\n",
              "      <td>0.083081</td>\n",
              "      <td>0.018443</td>\n",
              "      <td>-0.549500</td>\n",
              "    </tr>\n",
              "    <tr>\n",
              "      <th>Age</th>\n",
              "      <td>0.036847</td>\n",
              "      <td>-0.077221</td>\n",
              "      <td>-0.369226</td>\n",
              "      <td>1.000000</td>\n",
              "      <td>-0.308247</td>\n",
              "      <td>-0.189119</td>\n",
              "      <td>0.096067</td>\n",
              "    </tr>\n",
              "    <tr>\n",
              "      <th>SibSp</th>\n",
              "      <td>-0.057527</td>\n",
              "      <td>-0.035322</td>\n",
              "      <td>0.083081</td>\n",
              "      <td>-0.308247</td>\n",
              "      <td>1.000000</td>\n",
              "      <td>0.414838</td>\n",
              "      <td>0.159651</td>\n",
              "    </tr>\n",
              "    <tr>\n",
              "      <th>Parch</th>\n",
              "      <td>-0.001652</td>\n",
              "      <td>0.081629</td>\n",
              "      <td>0.018443</td>\n",
              "      <td>-0.189119</td>\n",
              "      <td>0.414838</td>\n",
              "      <td>1.000000</td>\n",
              "      <td>0.216225</td>\n",
              "    </tr>\n",
              "    <tr>\n",
              "      <th>Fare</th>\n",
              "      <td>0.012658</td>\n",
              "      <td>0.257307</td>\n",
              "      <td>-0.549500</td>\n",
              "      <td>0.096067</td>\n",
              "      <td>0.159651</td>\n",
              "      <td>0.216225</td>\n",
              "      <td>1.000000</td>\n",
              "    </tr>\n",
              "  </tbody>\n",
              "</table>\n",
              "</div>"
            ],
            "text/plain": [
              "             PassengerId  Survived    Pclass  ...     SibSp     Parch      Fare\n",
              "PassengerId     1.000000 -0.005007 -0.035144  ... -0.057527 -0.001652  0.012658\n",
              "Survived       -0.005007  1.000000 -0.338481  ... -0.035322  0.081629  0.257307\n",
              "Pclass         -0.035144 -0.338481  1.000000  ...  0.083081  0.018443 -0.549500\n",
              "Age             0.036847 -0.077221 -0.369226  ... -0.308247 -0.189119  0.096067\n",
              "SibSp          -0.057527 -0.035322  0.083081  ...  1.000000  0.414838  0.159651\n",
              "Parch          -0.001652  0.081629  0.018443  ...  0.414838  1.000000  0.216225\n",
              "Fare            0.012658  0.257307 -0.549500  ...  0.159651  0.216225  1.000000\n",
              "\n",
              "[7 rows x 7 columns]"
            ]
          },
          "metadata": {
            "tags": []
          },
          "execution_count": 5
        }
      ]
    },
    {
      "cell_type": "markdown",
      "metadata": {
        "id": "fuY47kMx-De-"
      },
      "source": [
        "Las variables que están más relacionadas con la variable _Survived_ son _Pclass_, _Fare_. \n",
        "\n",
        "La relación entre las variables Pclass y Survived tiene sentido porque, como vimos en el anterior punto, hubieron más pasajeros en la clase baja que el resto, entonces las probabilidades de sobrevivir aumentan.\n",
        "\n",
        "Lo mismo con la variable Fare, suponemos que tiene que ver con la Pclass, ya que si el precio del ticket es el mayor, correspondría a la clase alta, si es menor, a la clase media o baja."
      ]
    },
    {
      "cell_type": "markdown",
      "metadata": {
        "id": "diPkxNMb-V3e"
      },
      "source": [
        "**2.4 Genére alguna conclusión del análisis de una o más variables.**"
      ]
    },
    {
      "cell_type": "markdown",
      "metadata": {
        "id": "oqUkNrrDi5-A"
      },
      "source": [
        "####**Analizaremos las variables *Survived*, *Pclass* y *Age***"
      ]
    },
    {
      "cell_type": "markdown",
      "metadata": {
        "id": "eBn4FM1cnZei"
      },
      "source": [
        "###_Survived_"
      ]
    },
    {
      "cell_type": "code",
      "metadata": {
        "colab": {
          "base_uri": "https://localhost:8080/"
        },
        "id": "Fe2JCTtCRlhY",
        "outputId": "54ee8594-3c6a-4c3b-8c6a-925c169f7a71"
      },
      "source": [
        "#¿Qué tipo de variable es Survived?\n",
        "print(\"La variable Survived es de tipo {} (Entero)\".format(train.Survived.dtypes))\n",
        "#comprobamos que solo existen valores 0 y 1 entre las observaciones de la variable.\n",
        "print(\"Solo existen los valores {}\".format(train.Survived.unique()))\n",
        "#Por último, ¿cuántos valores nulos hay en esta variable?\n",
        "print(\"Hay un total de {} valores nulos\".format(train.Survived.isna().sum()))"
      ],
      "execution_count": 6,
      "outputs": [
        {
          "output_type": "stream",
          "text": [
            "La variable Survived es de tipo int64 (Entero)\n",
            "Solo existen los valores [0 1]\n",
            "Hay un total de 0 valores nulos\n"
          ],
          "name": "stdout"
        }
      ]
    },
    {
      "cell_type": "markdown",
      "metadata": {
        "id": "e22iwYwGpS0o"
      },
      "source": [
        "###Pclass"
      ]
    },
    {
      "cell_type": "code",
      "metadata": {
        "colab": {
          "base_uri": "https://localhost:8080/"
        },
        "id": "ZAAexNQxpVKN",
        "outputId": "70efbd96-e72e-43a6-da64-421ad89f5623"
      },
      "source": [
        "#¿Qué tipo de variable es Pclass?\n",
        "print(\"La variable Pclass es de tipo {}\".format(train.Pclass.dtypes))\n",
        "#¿Cuántos valores existen en dicha variable?\n",
        "print(\"Existen los valores {}, o sea, clase baja, alta y media\".format(train.Pclass.unique()))\n",
        "#¿Hay valores nulos?\n",
        "print(\"Hay {} valores nulos en esta variable\".format(train.Pclass.isna().sum()))"
      ],
      "execution_count": 7,
      "outputs": [
        {
          "output_type": "stream",
          "text": [
            "La variable Pclass es de tipo int64\n",
            "Existen los valores [3 1 2], o sea, clase baja, alta y media\n",
            "Hay 0 valores nulos en esta variable\n"
          ],
          "name": "stdout"
        }
      ]
    },
    {
      "cell_type": "markdown",
      "metadata": {
        "id": "uo1t6UKTne5T"
      },
      "source": [
        "###_Age_"
      ]
    },
    {
      "cell_type": "code",
      "metadata": {
        "colab": {
          "base_uri": "https://localhost:8080/"
        },
        "id": "saz0yQt_muFS",
        "outputId": "fc7428b8-4298-4e75-ac62-9c581fd13347"
      },
      "source": [
        "#¿Qué tipo de variable es Age?\n",
        "print(\"La variable Age es de tipo {}\".format(train.Age.dtypes))\n",
        "#Vemos que Age contine números decimales, \n",
        "#ahora importaremos un código para corroborar \n",
        "#el valor de edad de cada registro no nulo\n",
        "EsEntero = True\n",
        "for _, age in train.Age.dropna().iteritems():\n",
        "  EsEntero = age.is_integer()\n",
        "  if not EsEntero:\n",
        "    break\n",
        "if EsEntero:\n",
        "  print(\"Todos los valores son enteros!\")\n",
        "else:\n",
        "  print(\"No todos los valores son enteros\")\n"
      ],
      "execution_count": 8,
      "outputs": [
        {
          "output_type": "stream",
          "text": [
            "La variable Age es de tipo float64\n",
            "No todos los valores son enteros\n"
          ],
          "name": "stdout"
        }
      ]
    },
    {
      "cell_type": "markdown",
      "metadata": {
        "id": "HXfi74Z5okGL"
      },
      "source": [
        "Comprobamos que existen valores no enteros en esta variable, por lo que debemos decidir si quedarnos solo con la parte entera de los valores, redondearlas o seguir manejando las edades con decimales.\n",
        "\n",
        "Para cerrar con este análisis, veremos el rango de valores de la variable:"
      ]
    },
    {
      "cell_type": "code",
      "metadata": {
        "colab": {
          "base_uri": "https://localhost:8080/"
        },
        "id": "mi0gq45dozh5",
        "outputId": "5023a0d5-0567-434b-a2ed-0d589f387944"
      },
      "source": [
        "#Con el método describe() podemos ver tanto el valor \n",
        "#mínimo como el máximo, lo cual nos indica el rango.\n",
        "train.Age.describe()"
      ],
      "execution_count": null,
      "outputs": [
        {
          "output_type": "execute_result",
          "data": {
            "text/plain": [
              "count    714.000000\n",
              "mean      29.699118\n",
              "std       14.526497\n",
              "min        0.420000\n",
              "25%       20.125000\n",
              "50%       28.000000\n",
              "75%       38.000000\n",
              "max       80.000000\n",
              "Name: Age, dtype: float64"
            ]
          },
          "metadata": {
            "tags": []
          },
          "execution_count": 9
        }
      ]
    },
    {
      "cell_type": "markdown",
      "metadata": {
        "id": "RHj98dlXpC-y"
      },
      "source": [
        "Vemos que el rango de valores de _Age_ es de 0,42 a 80, por lo que no tendremos inconvenientes al realizar la **limpieza de datos**"
      ]
    },
    {
      "cell_type": "markdown",
      "metadata": {
        "id": "gvGBT4aSYotW"
      },
      "source": [
        "**3. ¿Qué variables del conjunto de datos original seleccionara para usar? Diga los motivos y las pruebas que se hicieron.**"
      ]
    },
    {
      "cell_type": "code",
      "metadata": {
        "colab": {
          "base_uri": "https://localhost:8080/",
          "height": 414
        },
        "id": "ChALnbWwaQBq",
        "outputId": "b2466d52-d0ed-4792-fa9f-c379fc522dc0"
      },
      "source": [
        "train.drop(columns = [\"Name\", \"PassengerId\", \"Ticket\"])"
      ],
      "execution_count": 9,
      "outputs": [
        {
          "output_type": "execute_result",
          "data": {
            "text/html": [
              "<div>\n",
              "<style scoped>\n",
              "    .dataframe tbody tr th:only-of-type {\n",
              "        vertical-align: middle;\n",
              "    }\n",
              "\n",
              "    .dataframe tbody tr th {\n",
              "        vertical-align: top;\n",
              "    }\n",
              "\n",
              "    .dataframe thead th {\n",
              "        text-align: right;\n",
              "    }\n",
              "</style>\n",
              "<table border=\"1\" class=\"dataframe\">\n",
              "  <thead>\n",
              "    <tr style=\"text-align: right;\">\n",
              "      <th></th>\n",
              "      <th>Survived</th>\n",
              "      <th>Pclass</th>\n",
              "      <th>Sex</th>\n",
              "      <th>Age</th>\n",
              "      <th>SibSp</th>\n",
              "      <th>Parch</th>\n",
              "      <th>Fare</th>\n",
              "      <th>Cabin</th>\n",
              "      <th>Embarked</th>\n",
              "    </tr>\n",
              "  </thead>\n",
              "  <tbody>\n",
              "    <tr>\n",
              "      <th>0</th>\n",
              "      <td>0</td>\n",
              "      <td>3</td>\n",
              "      <td>male</td>\n",
              "      <td>22.0</td>\n",
              "      <td>1</td>\n",
              "      <td>0</td>\n",
              "      <td>7.2500</td>\n",
              "      <td>NaN</td>\n",
              "      <td>S</td>\n",
              "    </tr>\n",
              "    <tr>\n",
              "      <th>1</th>\n",
              "      <td>1</td>\n",
              "      <td>1</td>\n",
              "      <td>female</td>\n",
              "      <td>38.0</td>\n",
              "      <td>1</td>\n",
              "      <td>0</td>\n",
              "      <td>71.2833</td>\n",
              "      <td>C85</td>\n",
              "      <td>C</td>\n",
              "    </tr>\n",
              "    <tr>\n",
              "      <th>2</th>\n",
              "      <td>1</td>\n",
              "      <td>3</td>\n",
              "      <td>female</td>\n",
              "      <td>26.0</td>\n",
              "      <td>0</td>\n",
              "      <td>0</td>\n",
              "      <td>7.9250</td>\n",
              "      <td>NaN</td>\n",
              "      <td>S</td>\n",
              "    </tr>\n",
              "    <tr>\n",
              "      <th>3</th>\n",
              "      <td>1</td>\n",
              "      <td>1</td>\n",
              "      <td>female</td>\n",
              "      <td>35.0</td>\n",
              "      <td>1</td>\n",
              "      <td>0</td>\n",
              "      <td>53.1000</td>\n",
              "      <td>C123</td>\n",
              "      <td>S</td>\n",
              "    </tr>\n",
              "    <tr>\n",
              "      <th>4</th>\n",
              "      <td>0</td>\n",
              "      <td>3</td>\n",
              "      <td>male</td>\n",
              "      <td>35.0</td>\n",
              "      <td>0</td>\n",
              "      <td>0</td>\n",
              "      <td>8.0500</td>\n",
              "      <td>NaN</td>\n",
              "      <td>S</td>\n",
              "    </tr>\n",
              "    <tr>\n",
              "      <th>...</th>\n",
              "      <td>...</td>\n",
              "      <td>...</td>\n",
              "      <td>...</td>\n",
              "      <td>...</td>\n",
              "      <td>...</td>\n",
              "      <td>...</td>\n",
              "      <td>...</td>\n",
              "      <td>...</td>\n",
              "      <td>...</td>\n",
              "    </tr>\n",
              "    <tr>\n",
              "      <th>886</th>\n",
              "      <td>0</td>\n",
              "      <td>2</td>\n",
              "      <td>male</td>\n",
              "      <td>27.0</td>\n",
              "      <td>0</td>\n",
              "      <td>0</td>\n",
              "      <td>13.0000</td>\n",
              "      <td>NaN</td>\n",
              "      <td>S</td>\n",
              "    </tr>\n",
              "    <tr>\n",
              "      <th>887</th>\n",
              "      <td>1</td>\n",
              "      <td>1</td>\n",
              "      <td>female</td>\n",
              "      <td>19.0</td>\n",
              "      <td>0</td>\n",
              "      <td>0</td>\n",
              "      <td>30.0000</td>\n",
              "      <td>B42</td>\n",
              "      <td>S</td>\n",
              "    </tr>\n",
              "    <tr>\n",
              "      <th>888</th>\n",
              "      <td>0</td>\n",
              "      <td>3</td>\n",
              "      <td>female</td>\n",
              "      <td>NaN</td>\n",
              "      <td>1</td>\n",
              "      <td>2</td>\n",
              "      <td>23.4500</td>\n",
              "      <td>NaN</td>\n",
              "      <td>S</td>\n",
              "    </tr>\n",
              "    <tr>\n",
              "      <th>889</th>\n",
              "      <td>1</td>\n",
              "      <td>1</td>\n",
              "      <td>male</td>\n",
              "      <td>26.0</td>\n",
              "      <td>0</td>\n",
              "      <td>0</td>\n",
              "      <td>30.0000</td>\n",
              "      <td>C148</td>\n",
              "      <td>C</td>\n",
              "    </tr>\n",
              "    <tr>\n",
              "      <th>890</th>\n",
              "      <td>0</td>\n",
              "      <td>3</td>\n",
              "      <td>male</td>\n",
              "      <td>32.0</td>\n",
              "      <td>0</td>\n",
              "      <td>0</td>\n",
              "      <td>7.7500</td>\n",
              "      <td>NaN</td>\n",
              "      <td>Q</td>\n",
              "    </tr>\n",
              "  </tbody>\n",
              "</table>\n",
              "<p>891 rows × 9 columns</p>\n",
              "</div>"
            ],
            "text/plain": [
              "     Survived  Pclass     Sex   Age  SibSp  Parch     Fare Cabin Embarked\n",
              "0           0       3    male  22.0      1      0   7.2500   NaN        S\n",
              "1           1       1  female  38.0      1      0  71.2833   C85        C\n",
              "2           1       3  female  26.0      0      0   7.9250   NaN        S\n",
              "3           1       1  female  35.0      1      0  53.1000  C123        S\n",
              "4           0       3    male  35.0      0      0   8.0500   NaN        S\n",
              "..        ...     ...     ...   ...    ...    ...      ...   ...      ...\n",
              "886         0       2    male  27.0      0      0  13.0000   NaN        S\n",
              "887         1       1  female  19.0      0      0  30.0000   B42        S\n",
              "888         0       3  female   NaN      1      2  23.4500   NaN        S\n",
              "889         1       1    male  26.0      0      0  30.0000  C148        C\n",
              "890         0       3    male  32.0      0      0   7.7500   NaN        Q\n",
              "\n",
              "[891 rows x 9 columns]"
            ]
          },
          "metadata": {
            "tags": []
          },
          "execution_count": 9
        }
      ]
    },
    {
      "cell_type": "markdown",
      "metadata": {
        "id": "viTDZppucyO5"
      },
      "source": [
        "Usaríamos todas las variables, exceptuando *PassengerId*, *Name* y *Ticket*, debido a que nos resulta inútiles para predecir las probilidades de supervivencia de los pasajeros. Más adelante removeremos también la variable *Embarked*, pero sin antes aplicarle la limpieza correspondiente."
      ]
    },
    {
      "cell_type": "markdown",
      "metadata": {
        "id": "2TYA-KGvZ033"
      },
      "source": [
        "**4. Realice la limpieza de los datos**\n",
        "\n",
        "**4.1 ¿Qué variables tienen datos nulos? ¿Tiene sentido que esas variables tengan datos nulos?**"
      ]
    },
    {
      "cell_type": "code",
      "metadata": {
        "id": "wkwBUa75-t6k",
        "colab": {
          "base_uri": "https://localhost:8080/"
        },
        "outputId": "1b07f2da-1352-45f6-de9f-1206f0ee3e9a"
      },
      "source": [
        "train.isna().sum()"
      ],
      "execution_count": 10,
      "outputs": [
        {
          "output_type": "execute_result",
          "data": {
            "text/plain": [
              "PassengerId      0\n",
              "Survived         0\n",
              "Pclass           0\n",
              "Name             0\n",
              "Sex              0\n",
              "Age            177\n",
              "SibSp            0\n",
              "Parch            0\n",
              "Ticket           0\n",
              "Fare             0\n",
              "Cabin          687\n",
              "Embarked         2\n",
              "dtype: int64"
            ]
          },
          "metadata": {
            "tags": []
          },
          "execution_count": 10
        }
      ]
    },
    {
      "cell_type": "markdown",
      "metadata": {
        "id": "v9bAaOCu-3j-"
      },
      "source": [
        "Las variables qué tienen datos nulos son *Age*, *Cabin* y *Embarked*. Si, tiene sentido que tengan datos nulos: por ejemplo, en *Cabin* pudieron haber pasajeros sin camarote asignado. Para nosotros, *Age* tiene un poco de sentido, podemos deducir que no se pudo averiguar la edad exacta de el/la pasajero/a. Por último, no tiene sentido que *Embarked* tenga 2 valores nulos."
      ]
    },
    {
      "cell_type": "markdown",
      "metadata": {
        "id": "QENNHZ1-Bl7-"
      },
      "source": [
        "**4.2 Proponga y ejecute una idea para imputar los datos nulos.**"
      ]
    },
    {
      "cell_type": "markdown",
      "metadata": {
        "id": "bS91YPawtOlW"
      },
      "source": [
        "###_Age_"
      ]
    },
    {
      "cell_type": "markdown",
      "metadata": {
        "id": "bwKlKsXOCB-G"
      },
      "source": [
        "Hay muchas estrategias para imputar los datos nulos, en nuestro caso proponemos completar los datos obteniendo valores aleatorios de la distribución.\n",
        "\n",
        "Primero vamos a comenzar con la variable *Age*: Ubicaremos los datos en un gráfico de barras para que, luego de llenar los datos nulos, verificaremos que la modificación no sea radical."
      ]
    },
    {
      "cell_type": "code",
      "metadata": {
        "colab": {
          "base_uri": "https://localhost:8080/",
          "height": 386
        },
        "id": "FYVL88J2R6Ek",
        "outputId": "37361b2a-42dc-40a7-aba8-60ef3854fff8"
      },
      "source": [
        "sns.displot(data = train, x = \"Age\", kde = True)"
      ],
      "execution_count": 11,
      "outputs": [
        {
          "output_type": "execute_result",
          "data": {
            "text/plain": [
              "<seaborn.axisgrid.FacetGrid at 0x7eff0156cad0>"
            ]
          },
          "metadata": {
            "tags": []
          },
          "execution_count": 11
        },
        {
          "output_type": "display_data",
          "data": {
            "image/png": "[encoded data removed]",
            "text/plain": [
              "<Figure size 360x360 with 1 Axes>"
            ]
          },
          "metadata": {
            "tags": [],
            "needs_background": "light"
          }
        }
      ]
    },
    {
      "cell_type": "markdown",
      "metadata": {
        "id": "zhLlfsg9R7oH"
      },
      "source": [
        "Luego, procedemos a realizar nuestro objetivo"
      ]
    },
    {
      "cell_type": "code",
      "metadata": {
        "colab": {
          "base_uri": "https://localhost:8080/",
          "height": 511
        },
        "id": "OHgWsytlS9WY",
        "outputId": "7033cfd8-26c7-49d0-f4b1-91f55b76bc94"
      },
      "source": [
        "#1\n",
        "missingValues = train.Age.isna().sum()\n",
        "#2\n",
        "from random import sample\n",
        "#3\n",
        "values = sample(train.Age.dropna().to_list(), missingValues)\n",
        "#4\n",
        "train.Age.loc[train.Age.isna()] = values\n",
        "#5\n",
        "missingValues = train.Age.isna().sum()\n",
        "print(\"Hay {} valores faltantes\".format(missingValues))\n",
        "print ()\n",
        "#6\n",
        "sns.displot(data = train, x = \"Age\", kde = True)"
      ],
      "execution_count": 12,
      "outputs": [
        {
          "output_type": "stream",
          "text": [
            "Hay 0 valores faltantes\n",
            "\n"
          ],
          "name": "stdout"
        },
        {
          "output_type": "stream",
          "text": [
            "/usr/local/lib/python3.7/dist-packages/pandas/core/indexing.py:670: SettingWithCopyWarning: \n",
            "A value is trying to be set on a copy of a slice from a DataFrame\n",
            "\n",
            "See the caveats in the documentation: https://pandas.pydata.org/pandas-docs/stable/user_guide/indexing.html#returning-a-view-versus-a-copy\n",
            "  iloc._setitem_with_indexer(indexer, value)\n"
          ],
          "name": "stderr"
        },
        {
          "output_type": "execute_result",
          "data": {
            "text/plain": [
              "<seaborn.axisgrid.FacetGrid at 0x7efeff078190>"
            ]
          },
          "metadata": {
            "tags": []
          },
          "execution_count": 12
        },
        {
          "output_type": "display_data",
          "data": {
            "image/png": "[encoded data removed]",
            "text/plain": [
              "<Figure size 360x360 with 1 Axes>"
            ]
          },
          "metadata": {
            "tags": [],
            "needs_background": "light"
          }
        }
      ]
    },
    {
      "cell_type": "markdown",
      "metadata": {
        "id": "UAp1hh7DTq-Z"
      },
      "source": [
        "Este proceso parece algo complejo, así que vamos por pasos:\n",
        "\n",
        "1.   Primero, creamos una nueva variable llamda *missingValues* la cual nos dice cuantos datos faltantes hay en total (recordemos que previo a este paso contamos con 177).\n",
        "2.   Para generar los datos faltantes, utilizaremos la función sample() de la librería random, dicha función nos devuelve una lista de valores al azar, elegidos de entre los elementos de una lista.\n",
        "3.   En este paso definimos la cantidad de valores a devolver, que lo hacemos con la variable *misssing_values*.\n",
        "4.   En el código que importamos, reemplazamos todos los valores nulos del dataset por los valores generados de la función sample().\n",
        "5.   Corroboramos de que no hayan valores nulos.\n",
        "6.   Finalmente, hacemos el gráfico sin valores nulos para verificar de que no hayan grandes cambios del original."
      ]
    },
    {
      "cell_type": "markdown",
      "metadata": {
        "id": "B9KeW8YinB4f"
      },
      "source": [
        "###_Cabin y Embarked_"
      ]
    },
    {
      "cell_type": "markdown",
      "metadata": {
        "id": "9wwzrl6pm3EK"
      },
      "source": [
        "####**Imputación de datos nulos**"
      ]
    },
    {
      "cell_type": "markdown",
      "metadata": {
        "id": "VmfCKcpEnNgo"
      },
      "source": [
        "Para imputar los datos nulos de Embarked, lo que hicimos fue eliminarlos con el método *dropna*. Y para Cabin, usaremos un método más complejo.\n",
        "Todo esto lo demostraremos en los próximos códigos."
      ]
    },
    {
      "cell_type": "markdown",
      "metadata": {
        "id": "ei09a2gkpc-Z"
      },
      "source": [
        "####**Limpieza de las variables (incluída Sex)**"
      ]
    },
    {
      "cell_type": "markdown",
      "metadata": {
        "id": "sRmhmgUQk8LS"
      },
      "source": [
        "Para la limpieza de estas dos variables (además de la de *Sex*), las codificaremos.\n",
        "\n",
        "Primero, para la codificación de Embarked usaremos un método llamado \"One hot encoding\" esto es, en lugar de usar una sola columna y usar un valor numérico para cada opción, vamos a generar tantas columnas como diferentes valores tenga la variable, en este caso 3 (C, S y Q), y cada una de estas columnas tendrán 1 si la observación pertenece a esa categoría, 0 sino.\n",
        "\n",
        "Para Cabin, lo explicaremos por pasos:\n",
        "1.   Codificamos la variable Cabin, creando la lista letters con todas las letras del abecedario.\n",
        "2.   Creamos la función _cabinENcoder_, la cual, recibe como parámetro una observación de la variable Cabin, si esta es un dato nulo regresa 0, si no regresa el valor de cabina codificado.\n",
        "3.   Existen pasajeros que no tienen una cabina asignada. Dado que los camarotes llegan hasta la T (siendo A el de mayor clase y T el de menor), asignamos el valor de camarote Z a quienes no tienen un camarote asignado.  Dado que son 26 letras, cada una con incrementos de a 1000, y comenzando desde el 0 a la letra Z le corresponde el código 25000, por lo que este será el valor a devolver cuando no exista un camarote asignado.\n",
        "4.   Creamos un lista con cada cabina presente en el registro.\n",
        "5.   Recorremos cada cabina identificada en el dato (puede ser una o más), y sumamos su valor codificado a la variable value.\n",
        "6.   Finalmente, aplicamos la variable Cabin con la nueva cabinEnconder."
      ]
    },
    {
      "cell_type": "code",
      "metadata": {
        "colab": {
          "base_uri": "https://localhost:8080/",
          "height": 202
        },
        "id": "N8GhK3MvhbGG",
        "outputId": "b3cd88ea-be38-4af0-99df-525e68c9de29"
      },
      "source": [
        "# PUNTO APARTE \"Limpieza de Sex\": Codificamos la variable Sex \n",
        "# (proceso explicado en ejercicio 5).\n",
        "train.Sex = train.Sex.apply(lambda x: 1 if x == \"female\" else 0)\n",
        "\n",
        "# Eliminamos los valores nulos de embarked.\n",
        "train.dropna(subset = [\"Embarked\"], inplace = True)\n",
        "\n",
        "# 1\n",
        "from string import ascii_uppercase as letters\n",
        "letters = dict(zip(list(letters),list(range(26))))\n",
        " \n",
        "# 2\n",
        "def cabinEncoder(cabin):\n",
        "\n",
        "# 3\n",
        "  if cabin is None or cabin != cabin:\n",
        "    return 25000\n",
        "\n",
        "# 4\n",
        "  cabin = cabin.split(\" \")\n",
        "\n",
        "# 5\n",
        "  value = 0\n",
        "  for c in cabin:\n",
        "    value += (letters[c[0]] * 1000) + (int(c[1:]) if len(c) > 1 else 0)\n",
        "  return value / len(cabin)\n",
        "\n",
        "# 6\n",
        " \n",
        "train.Cabin = train.Cabin.apply(cabinEncoder)\n",
        " \n",
        "# Hacemos OneHotEnoding sobre la variable Embarked\n",
        "def oneHotEncoder(column, prefix):\n",
        "  oneHot = pd.DataFrame()\n",
        "  \n",
        "  for value in column.unique():\n",
        "    oneHot[prefix + value] = (column == value).astype(\"int\")\n",
        " \n",
        "  return oneHot\n",
        " \n",
        "train = train.join(oneHotEncoder(train.Embarked, \"Embarked_\"))\n",
        "\n",
        "# Borramos las columnas que sabemos no nos serán de utilidad\n",
        "train.drop(columns=[\"PassengerId\", \"Name\", \"Ticket\", \"Embarked\"], inplace = True)\n",
        " \n",
        "train.head()"
      ],
      "execution_count": 14,
      "outputs": [
        {
          "output_type": "execute_result",
          "data": {
            "text/html": [
              "<div>\n",
              "<style scoped>\n",
              "    .dataframe tbody tr th:only-of-type {\n",
              "        vertical-align: middle;\n",
              "    }\n",
              "\n",
              "    .dataframe tbody tr th {\n",
              "        vertical-align: top;\n",
              "    }\n",
              "\n",
              "    .dataframe thead th {\n",
              "        text-align: right;\n",
              "    }\n",
              "</style>\n",
              "<table border=\"1\" class=\"dataframe\">\n",
              "  <thead>\n",
              "    <tr style=\"text-align: right;\">\n",
              "      <th></th>\n",
              "      <th>Survived</th>\n",
              "      <th>Pclass</th>\n",
              "      <th>Sex</th>\n",
              "      <th>Age</th>\n",
              "      <th>SibSp</th>\n",
              "      <th>Parch</th>\n",
              "      <th>Fare</th>\n",
              "      <th>Cabin</th>\n",
              "      <th>Embarked_S</th>\n",
              "      <th>Embarked_C</th>\n",
              "      <th>Embarked_Q</th>\n",
              "    </tr>\n",
              "  </thead>\n",
              "  <tbody>\n",
              "    <tr>\n",
              "      <th>0</th>\n",
              "      <td>0</td>\n",
              "      <td>3</td>\n",
              "      <td>0</td>\n",
              "      <td>22.0</td>\n",
              "      <td>1</td>\n",
              "      <td>0</td>\n",
              "      <td>7.2500</td>\n",
              "      <td>25000.0</td>\n",
              "      <td>1</td>\n",
              "      <td>0</td>\n",
              "      <td>0</td>\n",
              "    </tr>\n",
              "    <tr>\n",
              "      <th>1</th>\n",
              "      <td>1</td>\n",
              "      <td>1</td>\n",
              "      <td>0</td>\n",
              "      <td>38.0</td>\n",
              "      <td>1</td>\n",
              "      <td>0</td>\n",
              "      <td>71.2833</td>\n",
              "      <td>2085.0</td>\n",
              "      <td>0</td>\n",
              "      <td>1</td>\n",
              "      <td>0</td>\n",
              "    </tr>\n",
              "    <tr>\n",
              "      <th>2</th>\n",
              "      <td>1</td>\n",
              "      <td>3</td>\n",
              "      <td>0</td>\n",
              "      <td>26.0</td>\n",
              "      <td>0</td>\n",
              "      <td>0</td>\n",
              "      <td>7.9250</td>\n",
              "      <td>25000.0</td>\n",
              "      <td>1</td>\n",
              "      <td>0</td>\n",
              "      <td>0</td>\n",
              "    </tr>\n",
              "    <tr>\n",
              "      <th>3</th>\n",
              "      <td>1</td>\n",
              "      <td>1</td>\n",
              "      <td>0</td>\n",
              "      <td>35.0</td>\n",
              "      <td>1</td>\n",
              "      <td>0</td>\n",
              "      <td>53.1000</td>\n",
              "      <td>2123.0</td>\n",
              "      <td>1</td>\n",
              "      <td>0</td>\n",
              "      <td>0</td>\n",
              "    </tr>\n",
              "    <tr>\n",
              "      <th>4</th>\n",
              "      <td>0</td>\n",
              "      <td>3</td>\n",
              "      <td>0</td>\n",
              "      <td>35.0</td>\n",
              "      <td>0</td>\n",
              "      <td>0</td>\n",
              "      <td>8.0500</td>\n",
              "      <td>25000.0</td>\n",
              "      <td>1</td>\n",
              "      <td>0</td>\n",
              "      <td>0</td>\n",
              "    </tr>\n",
              "  </tbody>\n",
              "</table>\n",
              "</div>"
            ],
            "text/plain": [
              "   Survived  Pclass  Sex   Age  ...    Cabin  Embarked_S  Embarked_C  Embarked_Q\n",
              "0         0       3    0  22.0  ...  25000.0           1           0           0\n",
              "1         1       1    0  38.0  ...   2085.0           0           1           0\n",
              "2         1       3    0  26.0  ...  25000.0           1           0           0\n",
              "3         1       1    0  35.0  ...   2123.0           1           0           0\n",
              "4         0       3    0  35.0  ...  25000.0           1           0           0\n",
              "\n",
              "[5 rows x 11 columns]"
            ]
          },
          "metadata": {
            "tags": []
          },
          "execution_count": 14
        }
      ]
    },
    {
      "cell_type": "markdown",
      "metadata": {
        "id": "K5R25rGmtNoC"
      },
      "source": [
        "Como podemos ver, todas las variables se codificaron y limpiaron, esto quiere decir que no hay valores categóricos -sino numéricos- y no poseen valores nulos. Por lo que ya podríamos realizar el modelo."
      ]
    },
    {
      "cell_type": "markdown",
      "metadata": {
        "id": "sn12q_6H-8th"
      },
      "source": [
        "**4.3 ¿Qué variables tienen datos atípicos? ¿Estos datos, son equivocaciones oson reales? Proponga y ejecute una idea para tratar los mismos**\n",
        "\n"
      ]
    },
    {
      "cell_type": "code",
      "metadata": {
        "id": "e8EmtiOTA5bi",
        "colab": {
          "base_uri": "https://localhost:8080/",
          "height": 282
        },
        "outputId": "df28e05a-f7f2-4186-a8b8-0d05e36e8684"
      },
      "source": [
        "def is_outlier(column):\n",
        " quantiles = column.quantile([0.25,0.75])\n",
        " iqr = quantiles.diff()[0.75]\n",
        " quantiles[0.25] -= (1.5 * iqr)\n",
        " quantiles[0.75] += (1.5 * iqr)\n",
        "\n",
        " return sum((column < quantiles[0.25]) | (column > quantiles[0.75])) > 0\n",
        "\n",
        " print(train[[\"Age\", \"SibSp\", \"Parch\", \"Fare\"]].apply(is_outlier))\n",
        "\n",
        "sns.boxplot(data = train[[\"Age\", \"SibSp\", \"Parch\", \"Fare\"]])"
      ],
      "execution_count": 15,
      "outputs": [
        {
          "output_type": "execute_result",
          "data": {
            "text/plain": [
              "<matplotlib.axes._subplots.AxesSubplot at 0x7eff010ad050>"
            ]
          },
          "metadata": {
            "tags": []
          },
          "execution_count": 15
        },
        {
          "output_type": "display_data",
          "data": {
            "image/png": "[encoded data removed]",
            "text/plain": [
              "<Figure size 432x288 with 1 Axes>"
            ]
          },
          "metadata": {
            "tags": [],
            "needs_background": "light"
          }
        }
      ]
    },
    {
      "cell_type": "markdown",
      "metadata": {
        "id": "PIYdyv59A-6s"
      },
      "source": [
        "En el código importado anteriormente, podemos ver que las variables *Age*, *SibSp*, *Parch* y *Fare* tienen datos atípicos, además de ser reales. ¿Cómo propusimos esta idea? Bueno, primero utilizamos **def**, la cual es una palabra clave para crear las funciones en Python. En este caso, la función es **is_outlier**, y gracias a ella, pudimos detectar anomalías en nuestras variables. Por último, hicimos un gráfico de caja (boxplot) para ver aproximadamente cuantos datos atípicos hay en cada variable, sin antes definir los valores de los cuantiles por las columnas."
      ]
    },
    {
      "cell_type": "markdown",
      "metadata": {
        "id": "LLFh3KnUZABz"
      },
      "source": [
        "**5. ¿Qué variables considera que influyen más en la probabilidad de sobrevivir? Demuestre con gráficos.**"
      ]
    },
    {
      "cell_type": "markdown",
      "metadata": {
        "id": "g2dhkzXvIbGk"
      },
      "source": [
        "Consideramos que, las variables que influyen más en la probabilidad de sobrevivir, son: Pclass, Sex, Age, SibSp, Parch y Fare."
      ]
    },
    {
      "cell_type": "markdown",
      "metadata": {
        "id": "grjA9F7XQyhO"
      },
      "source": [
        "####Survived-Pclass"
      ]
    },
    {
      "cell_type": "code",
      "metadata": {
        "colab": {
          "base_uri": "https://localhost:8080/",
          "height": 296
        },
        "id": "l3ib9Qq9Ihys",
        "outputId": "0a6ae8e1-ad40-405d-ae7b-f5a7bb384470"
      },
      "source": [
        "sns.barplot(data = train, x = \"Pclass\", y = \"Survived\", ci = None)"
      ],
      "execution_count": 16,
      "outputs": [
        {
          "output_type": "execute_result",
          "data": {
            "text/plain": [
              "<matplotlib.axes._subplots.AxesSubplot at 0x7efefeebc610>"
            ]
          },
          "metadata": {
            "tags": []
          },
          "execution_count": 16
        },
        {
          "output_type": "display_data",
          "data": {
            "image/png": "[encoded data removed]",
            "text/plain": [
              "<Figure size 432x288 with 1 Axes>"
            ]
          },
          "metadata": {
            "tags": [],
            "needs_background": "light"
          }
        }
      ]
    },
    {
      "cell_type": "markdown",
      "metadata": {
        "id": "yBsNX2W8UMM8"
      },
      "source": [
        "Como se vió en el gráfico de barras, los pasajeros de clase alta tienen más probabilidades de sobrevivir que el resto."
      ]
    },
    {
      "cell_type": "markdown",
      "metadata": {
        "id": "2HRV7mWHQ3WQ"
      },
      "source": [
        "####Survived-Sex"
      ]
    },
    {
      "cell_type": "code",
      "metadata": {
        "colab": {
          "base_uri": "https://localhost:8080/",
          "height": 367
        },
        "id": "z7wClYEVvrm_",
        "outputId": "9c500296-f63c-44de-f3bc-41a3cd363ef4"
      },
      "source": [
        "#1\n",
        "train[\"Sex\"] = train.Sex.apply(lambda x: int(x == \"female\"))\n",
        " \n",
        "#2\n",
        "aux = train[[\"Survived\", \"Sex\",\"Pclass\"]].groupby([\"Survived\", \"Sex\"]).count().reset_index()\n",
        " \n",
        "#3\n",
        "aux = aux.pivot(\"Survived\", \"Sex\", \"Pclass\")\n",
        "\n",
        "#4\n",
        "print(aux / aux.sum())\n",
        " \n",
        "#5\n",
        "sns.heatmap(aux)"
      ],
      "execution_count": 13,
      "outputs": [
        {
          "output_type": "stream",
          "text": [
            "Sex              0         1\n",
            "Survived                    \n",
            "0         0.811092  0.257962\n",
            "1         0.188908  0.742038\n"
          ],
          "name": "stdout"
        },
        {
          "output_type": "execute_result",
          "data": {
            "text/plain": [
              "<matplotlib.axes._subplots.AxesSubplot at 0x7efefef92510>"
            ]
          },
          "metadata": {
            "tags": []
          },
          "execution_count": 13
        },
        {
          "output_type": "display_data",
          "data": {
            "image/png": "[encoded data removed]",
            "text/plain": [
              "<Figure size 432x288 with 2 Axes>"
            ]
          },
          "metadata": {
            "tags": [],
            "needs_background": "light"
          }
        }
      ]
    },
    {
      "cell_type": "markdown",
      "metadata": {
        "id": "T2kYZdHGUvsm"
      },
      "source": [
        "Este gráfico de calor (heatmap), vemos que existe una clara relación entre las variables Sex y Survived, pues la proporción de sobrevivientes es inversa dado el género del pasajero. ¿Cómo lo hicimos?\n",
        "\n",
        "1.   Codificamos las variables categóricas como numéricas, en este caso el sexo masculino es 0, y el femenino 1. Esto lo hacemos con la función *lambda*.\n",
        "2.   Creamos un Data Frame auxiliar donde guardamos la cantidad de pasajeros que sobrevivieron y la cantidad de pasajeros que no sobrevivieron, agrupados por sexo y clase.\n",
        "3.   Encontramos relaciones entre las variables *Survived*, *Sex* y *Pclass* con la ayuda del método Pivot, el cual nos permite reorganizar los ejes de nuestra tabla auxiliar.\n",
        "4.   Imprimimos el porcentaje de cada valor de nuestra tabla con respecto a la cantidad total de valores.\n",
        "5. Realizamos el gráfico de calor, con el código sns.heatmap()"
      ]
    },
    {
      "cell_type": "markdown",
      "metadata": {
        "id": "6IALcZH5Q77r"
      },
      "source": [
        "####Survived-Age"
      ]
    },
    {
      "cell_type": "markdown",
      "metadata": {
        "id": "uWvi1iOJXgat"
      },
      "source": [
        "Para la relación entre las variables Survived-Age, realizamos un gráfico de caja (boxplot)."
      ]
    },
    {
      "cell_type": "code",
      "metadata": {
        "colab": {
          "base_uri": "https://localhost:8080/",
          "height": 296
        },
        "id": "Rthv9InT2d8S",
        "outputId": "89cfdde6-1e53-4be8-984f-5d50220401d3"
      },
      "source": [
        "sns.boxplot(x=\"Survived\", y=\"Age\", data=train)"
      ],
      "execution_count": 17,
      "outputs": [
        {
          "output_type": "execute_result",
          "data": {
            "text/plain": [
              "<matplotlib.axes._subplots.AxesSubplot at 0x7efefed9ea90>"
            ]
          },
          "metadata": {
            "tags": []
          },
          "execution_count": 17
        },
        {
          "output_type": "display_data",
          "data": {
            "image/png": "[encoded data removed]",
            "text/plain": [
              "<Figure size 432x288 with 1 Axes>"
            ]
          },
          "metadata": {
            "tags": [],
            "needs_background": "light"
          }
        }
      ]
    },
    {
      "cell_type": "markdown",
      "metadata": {
        "id": "NRFIacjcXzAJ"
      },
      "source": [
        "Con este gráfico podemos ver que la distribución de las edades, discriminadas por nuestra variable objetivo (Survived), presentan un alto solapamiento de sus rangos intercuartiles (IQR), lo que determina un comportamiento muy similar."
      ]
    },
    {
      "cell_type": "markdown",
      "metadata": {
        "id": "RJGjHxZ-Q-tb"
      },
      "source": [
        "####Survived-SibSp"
      ]
    },
    {
      "cell_type": "markdown",
      "metadata": {
        "id": "L2SxGPqcTI6m"
      },
      "source": [
        "El siguiente gráfico de barras nos mostrará las probabiliadades de sobrevivir de los pasajeros cuyos hermanos y/o parejas sean también pasajeros. "
      ]
    },
    {
      "cell_type": "code",
      "metadata": {
        "colab": {
          "base_uri": "https://localhost:8080/",
          "height": 296
        },
        "id": "iN9o0qdWPlWk",
        "outputId": "9cadc458-6721-456c-92a1-268695ddadae"
      },
      "source": [
        "sns.barplot(data = train.sort_values(by = \"SibSp\", ascending=False), x = \"SibSp\", y = \"Survived\", palette=\"Greens_d\", ci = None)"
      ],
      "execution_count": 18,
      "outputs": [
        {
          "output_type": "execute_result",
          "data": {
            "text/plain": [
              "<matplotlib.axes._subplots.AxesSubplot at 0x7efefed48dd0>"
            ]
          },
          "metadata": {
            "tags": []
          },
          "execution_count": 18
        },
        {
          "output_type": "display_data",
          "data": {
            "image/png": "[encoded data removed]",
            "text/plain": [
              "<Figure size 432x288 with 1 Axes>"
            ]
          },
          "metadata": {
            "tags": [],
            "needs_background": "light"
          }
        }
      ]
    },
    {
      "cell_type": "markdown",
      "metadata": {
        "id": "S17kaKMvX9Ag"
      },
      "source": [
        "Como podemos apreciar, los pasajeros con un acompañante (ya sea hermano/a o pareja) tienen más probabilidades de estar vivos que el resto. Algo parecido ocurre en la siguiente relación Survived-Parch."
      ]
    },
    {
      "cell_type": "markdown",
      "metadata": {
        "id": "_KuN5spwRCk9"
      },
      "source": [
        "####Survived-Parch"
      ]
    },
    {
      "cell_type": "code",
      "metadata": {
        "colab": {
          "base_uri": "https://localhost:8080/",
          "height": 296
        },
        "id": "r7MMEQ9iLTFe",
        "outputId": "656fabd3-4515-4acf-9060-1ea915b86b46"
      },
      "source": [
        "sns.lineplot(data=train, x = \"Parch\", y = \"Survived\")"
      ],
      "execution_count": 19,
      "outputs": [
        {
          "output_type": "execute_result",
          "data": {
            "text/plain": [
              "<matplotlib.axes._subplots.AxesSubplot at 0x7efefed4d5d0>"
            ]
          },
          "metadata": {
            "tags": []
          },
          "execution_count": 19
        },
        {
          "output_type": "display_data",
          "data": {
            "image/png": "[encoded data removed]",
            "text/plain": [
              "<Figure size 432x288 with 1 Axes>"
            ]
          },
          "metadata": {
            "tags": [],
            "needs_background": "light"
          }
        }
      ]
    },
    {
      "cell_type": "markdown",
      "metadata": {
        "id": "fBpx_cWjR5kR"
      },
      "source": [
        "Éste gráfico, llamado gráfico de línea (lineplot), nos muestra como influye los hijos y/o padres del pasajero que también sean pasajeros en las probabilidades de sobrevivir. Nos resultó curioso que los pasajeros sin acompañamiento tengan menos posibilidades que otros con 3."
      ]
    },
    {
      "cell_type": "markdown",
      "metadata": {
        "id": "Pe2kBwteRFcF"
      },
      "source": [
        "####Survived-Fare"
      ]
    },
    {
      "cell_type": "markdown",
      "metadata": {
        "id": "5U8rvmtzcVgo"
      },
      "source": [
        "Para la relación entre estas dos variables, usamos un gráfico de barras similar al de los anteriores llamado *FacetGrid*. Podemos observar que más de 300 pasajeros que pagaron un precio menor no lograron sobrevivir."
      ]
    },
    {
      "cell_type": "code",
      "metadata": {
        "colab": {
          "base_uri": "https://localhost:8080/",
          "height": 422
        },
        "id": "66BCcsaoLvwG",
        "outputId": "3e9c5598-b461-430f-e4cc-9ec8ee609e98"
      },
      "source": [
        "g = sns.FacetGrid(train, col=\"Survived\", size=5)\n",
        "g.map(plt.hist, \"Fare\", bins=20)"
      ],
      "execution_count": 26,
      "outputs": [
        {
          "output_type": "stream",
          "text": [
            "/usr/local/lib/python3.7/dist-packages/seaborn/axisgrid.py:316: UserWarning: The `size` parameter has been renamed to `height`; please update your code.\n",
            "  warnings.warn(msg, UserWarning)\n"
          ],
          "name": "stderr"
        },
        {
          "output_type": "execute_result",
          "data": {
            "text/plain": [
              "<seaborn.axisgrid.FacetGrid at 0x7efefe48c450>"
            ]
          },
          "metadata": {
            "tags": []
          },
          "execution_count": 26
        },
        {
          "output_type": "display_data",
          "data": {
            "image/png": "[encoded data removed]",
            "text/plain": [
              "<Figure size 720x360 with 2 Axes>"
            ]
          },
          "metadata": {
            "tags": [],
            "needs_background": "light"
          }
        }
      ]
    },
    {
      "cell_type": "markdown",
      "metadata": {
        "id": "0oHkeq37ZP-h"
      },
      "source": [
        "**6. Cree al menos una variable extra, expliquela y mencione por que considera que es adecuada, o no, para usar en el modelo.**\n",
        "\n"
      ]
    },
    {
      "cell_type": "markdown",
      "metadata": {
        "id": "U38_hguqZrA0"
      },
      "source": [
        "Crearemos la variable auxsp, la cual estudia como es la probabilidad de sobrevivir para cada combinación posible de las variables SibSp y Parch, relacioadas con nuestra variable objetivo *Survived*.\n",
        "Esto lo podemos ver con un mapa de calor, mientras más oscuro sea el color, menor la probabiliad de sobrevivir."
      ]
    },
    {
      "cell_type": "code",
      "metadata": {
        "colab": {
          "base_uri": "https://localhost:8080/",
          "height": 461
        },
        "id": "IrMJtXfgaTAK",
        "outputId": "8123e642-99b1-4c8c-deca-5ebe7e58a61c"
      },
      "source": [
        "auxsp = train[[\"SibSp\", \"Parch\",\"Survived\"]].groupby([\"SibSp\", \"Parch\"]).agg(lambda x: sum(x)/len(x)).reset_index()\n",
        "auxsp = auxsp.pivot(\"SibSp\", \"Parch\", \"Survived\")\n",
        "print(auxsp)\n",
        "sns.heatmap(auxsp)"
      ],
      "execution_count": 27,
      "outputs": [
        {
          "output_type": "stream",
          "text": [
            "Parch         0         1         2         3    4         5    6\n",
            "SibSp                                                            \n",
            "0      0.300935  0.657895  0.724138  1.000000  0.0  0.000000  NaN\n",
            "1      0.520325  0.596491  0.631579  0.333333  0.0  0.333333  0.0\n",
            "2      0.250000  0.857143  0.500000  1.000000  NaN       NaN  NaN\n",
            "3      1.000000  0.000000  0.285714       NaN  NaN       NaN  NaN\n",
            "4           NaN  0.000000  0.333333       NaN  NaN       NaN  NaN\n",
            "5           NaN       NaN  0.000000       NaN  NaN       NaN  NaN\n",
            "8           NaN       NaN  0.000000       NaN  NaN       NaN  NaN\n"
          ],
          "name": "stdout"
        },
        {
          "output_type": "execute_result",
          "data": {
            "text/plain": [
              "<matplotlib.axes._subplots.AxesSubplot at 0x7efefe339f90>"
            ]
          },
          "metadata": {
            "tags": []
          },
          "execution_count": 27
        },
        {
          "output_type": "display_data",
          "data": {
            "image/png": "[encoded data removed]",
            "text/plain": [
              "<Figure size 432x288 with 2 Axes>"
            ]
          },
          "metadata": {
            "tags": [],
            "needs_background": "light"
          }
        }
      ]
    },
    {
      "cell_type": "markdown",
      "metadata": {
        "id": "cm0MsdAkaYxE"
      },
      "source": [
        "En este caso vemos que, pareciera haber una relación tal que, mientras Parch y SibSp son menores la probabilidad de sobrevivir es mayor. Para probar esto, primero crearemos una nueva variable Family que nos indicará si el pasajero tiene algún tipo de familiar a bordo."
      ]
    },
    {
      "cell_type": "code",
      "metadata": {
        "colab": {
          "base_uri": "https://localhost:8080/",
          "height": 367
        },
        "id": "T09a1TVlcjoc",
        "outputId": "00dba298-1f03-4841-b7c5-444de7465945"
      },
      "source": [
        "train[\"Family\"] = train.SibSp + train.Parch > 0\n",
        "aux = train[[\"Survived\", \"Family\",\"Pclass\"]].groupby([\"Survived\", \"Family\"]).count().reset_index()\n",
        "aux = aux.pivot(\"Survived\", \"Family\", \"Pclass\")\n",
        "print(aux / aux.sum())\n",
        "sns.heatmap(aux)"
      ],
      "execution_count": null,
      "outputs": [
        {
          "output_type": "stream",
          "text": [
            "Family       False    True \n",
            "Survived                   \n",
            "0         0.699065  0.49435\n",
            "1         0.300935  0.50565\n"
          ],
          "name": "stdout"
        },
        {
          "output_type": "execute_result",
          "data": {
            "text/plain": [
              "<matplotlib.axes._subplots.AxesSubplot at 0x7fa1e32178d0>"
            ]
          },
          "metadata": {
            "tags": []
          },
          "execution_count": 24
        },
        {
          "output_type": "display_data",
          "data": {
            "image/png": "[encoded data removed]",
            "text/plain": [
              "<Figure size 432x288 with 2 Axes>"
            ]
          },
          "metadata": {
            "tags": [],
            "needs_background": "light"
          }
        }
      ]
    },
    {
      "cell_type": "markdown",
      "metadata": {
        "id": "vMKEwXUsc7nl"
      },
      "source": [
        "En este caso, la variable pareciera tener un poco de poder predictivo pues, si el pasajero tiene familiares a bordo, la probabilidad de sobrevivir es del 50%, mientras que, sino tiene familiares a bordo la probabilidad de sobrevivir es de un 30%"
      ]
    },
    {
      "cell_type": "code",
      "metadata": {
        "colab": {
          "base_uri": "https://localhost:8080/",
          "height": 456
        },
        "id": "jWCkq76MeKoo",
        "outputId": "8a6cd4c3-24dc-4b3b-a35e-3ea5afc03dd1"
      },
      "source": [
        "auxpcf = train[[\"Pclass\", \"Fare\",\"Survived\"]].groupby([\"Pclass\", \"Fare\"]).agg(lambda x: sum(x)/len(x)).reset_index()\n",
        "auxpcf = auxpcf.pivot(\"Pclass\", \"Fare\", \"Survived\")\n",
        "print(auxpcf)\n",
        "sns.heatmap(auxpcf)"
      ],
      "execution_count": 28,
      "outputs": [
        {
          "output_type": "stream",
          "text": [
            "Fare    0.0000    4.0125    5.0000    ...  262.3750  263.0000  512.3292\n",
            "Pclass                                ...                              \n",
            "1           0.00       NaN       0.0  ...       1.0       0.5       1.0\n",
            "2           0.00       NaN       NaN  ...       NaN       NaN       NaN\n",
            "3           0.25       0.0       NaN  ...       NaN       NaN       NaN\n",
            "\n",
            "[3 rows x 247 columns]\n"
          ],
          "name": "stdout"
        },
        {
          "output_type": "execute_result",
          "data": {
            "text/plain": [
              "<matplotlib.axes._subplots.AxesSubplot at 0x7efefe281710>"
            ]
          },
          "metadata": {
            "tags": []
          },
          "execution_count": 28
        },
        {
          "output_type": "display_data",
          "data": {
            "image/png": "[encoded data removed]",
            "text/plain": [
              "<Figure size 432x288 with 2 Axes>"
            ]
          },
          "metadata": {
            "tags": [],
            "needs_background": "light"
          }
        }
      ]
    },
    {
      "cell_type": "markdown",
      "metadata": {
        "id": "cycU9OVuhYuM"
      },
      "source": [
        "En el anterior código, nuestra intención fue de elaborar una nueva variable, llamada *auxpcf* la cual nos permite saber como es la probabilidad de sobrevivir para cada combinación posible de las variables Pclass y Fare, relacionadas con Survived. Lo expresamos en un gráfico de calor (un poco complejo de leer), y vemos que hay una relación entre nuestras variables."
      ]
    },
    {
      "cell_type": "markdown",
      "metadata": {
        "id": "jlIjHUP0GH2k"
      },
      "source": [
        "## Separación en entrenamiento y validación\n",
        "\n",
        "Una vez que análizamos los datos y los tenemos limpios, corresponde hacer la separación entre los datos a usar para entrenar y para validar los modelos. "
      ]
    },
    {
      "cell_type": "code",
      "metadata": {
        "id": "qHbUzwVDGe68"
      },
      "source": [
        "from sklearn.model_selection import train_test_split\n",
        "\n",
        "X_train, X_test, y_train, y_test = train_test_split(\n",
        "    train.drop(columns=[\"Survived\"]), \n",
        "    train.Survived, test_size=0.33, random_state=1\n",
        ")"
      ],
      "execution_count": 29,
      "outputs": []
    },
    {
      "cell_type": "markdown",
      "metadata": {
        "id": "K8pG5lHRFt7S"
      },
      "source": [
        "## Entrenamiento\n",
        "\n",
        "Una vez separado los datos usamos los datos de entrenamiento para aprender los parámetros de nuestro modelo, en este caso usaremos una regresión logística."
      ]
    },
    {
      "cell_type": "code",
      "metadata": {
        "id": "92YoMpqJta7d",
        "colab": {
          "base_uri": "https://localhost:8080/"
        },
        "outputId": "70390928-23e6-4ed8-b79d-84a03d76c248"
      },
      "source": [
        "from sklearn.linear_model import LogisticRegression\n",
        "\n",
        "LogReg = LogisticRegression(random_state=0)\n",
        "\n",
        "LogReg.fit(X_train, y_train)"
      ],
      "execution_count": 30,
      "outputs": [
        {
          "output_type": "execute_result",
          "data": {
            "text/plain": [
              "LogisticRegression(C=1.0, class_weight=None, dual=False, fit_intercept=True,\n",
              "                   intercept_scaling=1, l1_ratio=None, max_iter=100,\n",
              "                   multi_class='auto', n_jobs=None, penalty='l2',\n",
              "                   random_state=0, solver='lbfgs', tol=0.0001, verbose=0,\n",
              "                   warm_start=False)"
            ]
          },
          "metadata": {
            "tags": []
          },
          "execution_count": 30
        }
      ]
    },
    {
      "cell_type": "markdown",
      "metadata": {
        "id": "Qy6mj0ndHL_M"
      },
      "source": [
        "**7. Investigar otro modelo e implementar para comparar.**"
      ]
    },
    {
      "cell_type": "markdown",
      "metadata": {
        "id": "SLIUHVvRH7F_"
      },
      "source": [
        "Para este modelo alternativo, escogimos una técnica llamada *ElasticNet*, dicha técnica es un modelo de regresión lineal que fuerza a que los coeficientes del modelo tiendan a cero, minimizando así el riesgo de overfitting, reduciendo varianza, atenuado el efecto de la correlación entre predictores y reduciendo la influencia en el modelo de los predictores menos relevantes. A continuación lo importaremos en el bloque de código."
      ]
    },
    {
      "cell_type": "code",
      "metadata": {
        "id": "BRttmFJGHVdF",
        "colab": {
          "base_uri": "https://localhost:8080/"
        },
        "outputId": "5f645d54-786b-483b-9115-ec455b96de5b"
      },
      "source": [
        "# Al usar otro modelo, los pasos son los mismos, primero debemos importarlo de la biblioteca.\n",
        "from sklearn.linear_model import ElasticNet\n",
        "\n",
        "# Luego debemos inicializar el modelo, leer en la documentación los parámetros que debe\n",
        "# recibir el modelo.\n",
        "alternativeModel = ElasticNet(random_state=0)\n",
        "\n",
        "# Finalmente se entrena el mismo de la misma forma que entrenamos la regresión logística.\n",
        "alternativeModel.fit(X_train, y_train)"
      ],
      "execution_count": 35,
      "outputs": [
        {
          "output_type": "execute_result",
          "data": {
            "text/plain": [
              "ElasticNet(alpha=1.0, copy_X=True, fit_intercept=True, l1_ratio=0.5,\n",
              "           max_iter=1000, normalize=False, positive=False, precompute=False,\n",
              "           random_state=0, selection='cyclic', tol=0.0001, warm_start=False)"
            ]
          },
          "metadata": {
            "tags": []
          },
          "execution_count": 35
        }
      ]
    },
    {
      "cell_type": "markdown",
      "metadata": {
        "id": "qM9D2VScH4Qi"
      },
      "source": [
        "# Prueba\n",
        "\n",
        "Por último debemos probar todos los modelos que se entrenaron, para quedarnos con el de mejor desempeño. \n",
        "\n",
        "**8. Escoga el modelo con mejor desempeño.**\n",
        "\n",
        "**8.1 Seleccione la métrica a evaluar y explique porque escogio esta métrica**\n"
      ]
    },
    {
      "cell_type": "markdown",
      "metadata": {
        "id": "WKczQdzfIWP1"
      },
      "source": [
        "Seleccionamos la métrica Valor F, esto se debe a que nos pareció útil a la hora de realizar un modelo con buen desempeño, ya que combina tanto la exactitud como la precisión. El cálculo de la métrica elegida es el siguiente:\n",
        "$ F = 2 * \\frac{Precisión * Exhaustividad}{Precisión + Exhaustividad}$"
      ]
    },
    {
      "cell_type": "markdown",
      "metadata": {
        "id": "Dij1ATTdIZJC"
      },
      "source": [
        "**8.2 Calcule la métrica escogida para todos los modelos entrenados y selecciones el mejor.**"
      ]
    },
    {
      "cell_type": "code",
      "metadata": {
        "id": "GPqCkWNCIViy",
        "colab": {
          "base_uri": "https://localhost:8080/"
        },
        "outputId": "dc5619a5-7e48-4169-df9e-7a45e4d5f192"
      },
      "source": [
        "# Primero se deben obtener las predicciones de cada uno de los modelos para los  \n",
        "# datos en el conjunto de validación.\n",
        "\n",
        "# Primero debemos obtener las predicciones\n",
        "pred = LogReg.predict(X_test)\n",
        "predAlternativeModel = alternativeModel.predict(X_test)\n",
        "\n",
        "# Luego cálculamos la métrica seleccionada.\n",
        "\n",
        "# Precisión\n",
        "precision = (pred + y_test == 2).sum() / pred.sum()\n",
        "\n",
        "# Exhaustividad\n",
        "recall = (pred + y_test == 2).sum() / y_test.sum()\n",
        "\n",
        "# Valor F\n",
        "fScore = 2 * precision * recall / (precision + recall)\n",
        "print(\"Valor F: {}\".format(fScore))"
      ],
      "execution_count": 40,
      "outputs": [
        {
          "output_type": "stream",
          "text": [
            "Valor F: 0.46987951807228917\n"
          ],
          "name": "stdout"
        }
      ]
    },
    {
      "cell_type": "markdown",
      "metadata": {
        "id": "YC6zi-r1JDD8"
      },
      "source": [
        "Sacando nuestras conclusiones decimos que, según nuestra predicción, las probabilidades de sobrevivir de cada pasajero es de un 47%."
      ]
    }
  ]
}
